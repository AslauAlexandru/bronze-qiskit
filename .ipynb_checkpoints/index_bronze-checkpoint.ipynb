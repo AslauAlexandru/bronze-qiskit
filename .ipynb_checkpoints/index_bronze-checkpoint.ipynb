{
 "cells": [
  {
   "cell_type": "markdown",
   "metadata": {},
   "source": [
    "<table> \n",
    "    <tr>\n",
    "        <td  style=\"background-color:#ffffff;\"><img src=\"images\\qworld.jpg\" width=\"70%\" align=\"left\"></td>\n",
    "        <td style=\"background-color:#ffffff;\" width=\"*\"></td>\n",
    "        <td  style=\"background-color:#ffffff;vertical-align:text-top;\"><img src=\"images\\logo.jpg\" width=\"25%\" align=\"right\"></td>        \n",
    "    </tr></table>\n",
    "$ \\newcommand{\\bra}[1]{\\langle #1\\rvert} $\n",
    "$ \\newcommand{\\ket}[1]{\\lvert#1\\rangle} $\n",
    "$ \\newcommand{\\braket}[2]{\\langle #1\\lvert#2\\rangle} $\n",
    "$ \\newcommand{\\inner}[2]{\\langle #1,#2\\rangle} $\n",
    "$ \\newcommand{\\biginner}[2]{\\left\\langle #1,#2\\right\\rangle} $\n",
    "$ \\newcommand{\\mymatrix}[2]{\\left( \\begin{array}{#1} #2\\end{array} \\right)} $\n",
    "$ \\newcommand{\\myvector}[1]{\\mymatrix{c}{#1}} $\n",
    "$ \\newcommand{\\myrvector}[1]{\\mymatrix{r}{#1}} $\n",
    "$ \\newcommand{\\mypar}[1]{\\left( #1 \\right)} $\n",
    "$ \\newcommand{\\mybigpar}[1]{ \\Big( #1 \\Big)} $\n",
    "$ \\newcommand{\\sqrttwo}{\\frac{1}{\\sqrt{2}}} $\n",
    "$ \\newcommand{\\dsqrttwo}{\\dfrac{1}{\\sqrt{2}}} $\n",
    "$ \\newcommand{\\onehalf}{\\frac{1}{2}} $\n",
    "$ \\newcommand{\\donehalf}{\\dfrac{1}{2}} $\n",
    "$ \\newcommand{\\hadamard}{ \\mymatrix{rr}{ \\sqrttwo & \\sqrttwo \\\\ \\sqrttwo & -\\sqrttwo }} $\n",
    "$ \\newcommand{\\vzero}{\\myvector{1\\\\0}} $\n",
    "$ \\newcommand{\\vone}{\\myvector{0\\\\1}} $\n",
    "$ \\newcommand{\\vhadamardzero}{\\myvector{ \\sqrttwo \\\\  \\sqrttwo } } $\n",
    "$ \\newcommand{\\vhadamardone}{ \\myrvector{ \\sqrttwo \\\\ -\\sqrttwo } } $\n",
    "$ \\newcommand{\\myarray}[2]{ \\begin{array}{#1}#2\\end{array}} $\n",
    "$ \\newcommand{\\X}{ \\mymatrix{cc}{0 & 1 \\\\ 1 & 0}  } $\n",
    "$ \\newcommand{\\Z}{ \\mymatrix{rr}{1 & 0 \\\\ 0 & -1}  } $\n",
    "$ \\newcommand{\\Htwo}{ \\mymatrix{rrrr}{ \\frac{1}{2} & \\frac{1}{2} & \\frac{1}{2} & \\frac{1}{2} \\\\ \\frac{1}{2} & -\\frac{1}{2} & \\frac{1}{2} & -\\frac{1}{2} \\\\ \\frac{1}{2} & \\frac{1}{2} & -\\frac{1}{2} & -\\frac{1}{2} \\\\ \\frac{1}{2} & -\\frac{1}{2} & -\\frac{1}{2} & \\frac{1}{2} } } $\n",
    "$ \\newcommand{\\CNOT}{ \\mymatrix{cccc}{1 & 0 & 0 & 0 \\\\ 0 & 1 & 0 & 0 \\\\ 0 & 0 & 0 & 1 \\\\ 0 & 0 & 1 & 0} } $\n",
    "$ \\newcommand{\\norm}[1]{ \\left\\lVert #1 \\right\\rVert } $"
   ]
  },
  {
   "cell_type": "markdown",
   "metadata": {},
   "source": [
    "<font style=\"color: #cd7f32;\"><b><i>BRONZE+</i></b></font> is an introductory material to introduce the basics of quantum computation and quantum programming. \n",
    "\n",
    "It can be used to organize three-day long workshops or to design a 2-credit lecture for the second or third year university students. \n",
    "\n",
    "The current version uses Python as the programming language and qiskit library for writing quantum programs."
   ]
  },
  {
   "cell_type": "markdown",
   "metadata": {},
   "source": [
    "<ul>\n",
    "    <li><a href=\"bronze/B00_Acknowledgements.ipynb\" target=\"_blank\">Acknowledgements</a></li>\n",
    "</ul>"
   ]
  },
  {
   "cell_type": "markdown",
   "metadata": {},
   "source": [
    "<b>Test your system</b>\n",
    "<ul>\n",
    "    <li><a href=\"test/Cells_in_notebook.ipynb\" target=\"_blank\">Cells in Notebook</a></li>\n",
    "    <li><a href=\"test/Hello_from_quantum_world.ipynb\" target=\"_blank\">Hello from Quantum World</a></li>\n",
    "</ul>"
   ]
  },
  {
   "cell_type": "markdown",
   "metadata": {},
   "source": [
    "<b>References</b>\n",
    "<ul type=\"a\">\n",
    "    <li><a href=\"python/Python04_Quick_Reference.ipynb\" target=\"_blank\">Python Reference</a></li>\n",
    "    <li><a href=\"python/Python06_Drawing.ipynb\" target=\"_blank\">Python: Drawing</a></li>\n",
    "    <li><a href=\"bronze/B01_Qiskit_Reference.ipynb\" target=\"_blank\">Qiskit Reference</a></li>\n",
    "</ul>"
   ]
  },
  {
   "cell_type": "markdown",
   "metadata": {},
   "source": [
    "<b>Connecting to real quantum computers</b>\n",
    "<ul>\n",
    "    <li><a href=\"https://qiskit.org/documentation/install.html#install-access-ibm-q-devices-label\" target=\"_blank\">Access IBM Q Systems</a> <i>[external link]</i></li>\n",
    "</ul>"
   ]
  },
  {
   "cell_type": "markdown",
   "metadata": {},
   "source": [
    "<b>Python review</b>\n",
    "<ul>\n",
    "    <li><a href=\"python/Python08_Basics_Variables.ipynb\" target=\"_blank\">Variables</a></li>\n",
    "    <li><a href=\"python/Python12_Basics_Loops.ipynb\" target=\"_blank\">Loops</a></li>\n",
    "    <li><a href=\"python/Python16_Basics_Conditionals.ipynb\" target=\"_blank\">Conditionals</a></li>\n",
    "    <li><a href=\"python/Python20_Basics_Lists.ipynb\" target=\"_blank\">Lists</a></li>\n",
    "</ul>"
   ]
  },
  {
   "cell_type": "markdown",
   "metadata": {},
   "source": [
    "<b>Some linear algebra</b>\n",
    "<ul>\n",
    "    <li><a href=\"math/Math20_Vectors.ipynb\" target=\"_blank\">Vectors</a></li>\n",
    "    <li><a href=\"math/Math24_Dot_Product.ipynb\" target=\"_blank\">Dot Product</a></li>\n",
    "    <li><a href=\"math/Math28_Matrices.ipynb\" target=\"_blank\">Matrices</a></li>\n",
    "    <li><a href=\"math/Math32_Tensor_Product.ipynb\" target=\"_blank\">Tensor Product</a></li>\n",
    "</ul>"
   ]
  },
  {
   "cell_type": "markdown",
   "metadata": {},
   "source": [
    "<b>Probabilistic systems</b>\n",
    "<ol start=\"1\">\n",
    "    <li><a href=\"bronze/B03_One_Bit.ipynb\" target=\"_blank\">One Bit</a></li>\n",
    "    <li><a href=\"bronze/B05_First_Quantum_Program.ipynb\" target=\"_blank\">First Quantum Program</a></li>\n",
    "    <li><a href=\"bronze/B06_Coin_Flip.ipynb\" target=\"_blank\">Coin Flipping</a></li>\n",
    "    <li><a href=\"bronze/B09_Coin_Flip_Game.ipynb\" target=\"_blank\">Coin Flipping Game</a></li>\n",
    "    <li><a href=\"bronze/B12_Probabilistic_States.ipynb\" target=\"_blank\">Probabilistic States</a></li> \n",
    "    <li><a href=\"bronze/B15_Probabilistic_Operators.ipynb\" target=\"_blank\">Probabilistic Operators</a></li> \n",
    "    <li><a href=\"bronze/B17_Two_Probabilistic_Bits.ipynb\" target=\"_blank\">Two Probabilistic Bits</a></li> \n",
    "    <li><a href=\"bronze/B17-5_Freivalds.ipynb\" target=\"_blank\">Freivalds</a> [optional]</li>\n",
    "    <li><a href=\"bronze/B18_Correlation.ipynb\" target=\"_blank\">Correlation</a></li>\n",
    "</ol>"
   ]
  },
  {
   "cell_type": "markdown",
   "metadata": {},
   "source": [
    "<b>Basics of quantum systems</b>\n",
    "<ol start=\"10\">\n",
    "    <li><a href=\"bronze/B20_Quantum_Coin_Flipping.ipynb\" target=\"_blank\">Quantum Coin Flipping</a></li>\n",
    "    <!--\n",
    "<li><a style=\"color:#d0d0d0;\" href=\"bronze/B22_Waves_and_Interference.ipynb\" target=\"_blank\">Waves and Interference</a></li>\n",
    "-->\n",
    "    <li><a href=\"bronze/B24_Hadamard.ipynb\" target=\"_blank\">Hadamard Operator</a></li>\n",
    "    <li><a href=\"bronze/B26_One_Qubit.ipynb\" target=\"_blank\">One Qubit</a></li>\n",
    "    <li><a href=\"bronze/B28_Quantum_State.ipynb\" target=\"_blank\">Quantum State</a></li> \n",
    "    <li><a href=\"bronze/B30_Visualization_of_a_Qubit.ipynb\" target=\"_blank\">Visualization of a (Real-Valued) Qubit</a></li>\n",
    "    <li><a href=\"bronze/B34_Superposition_and_Measurement.ipynb\" target=\"_blank\">Superposition and Measurement</a></li>\n",
    "    <li><a href=\"bronze/B36_Quantum_Tomography.ipynb\" target=\"_blank\">Quantum Tomography</a></li>\n",
    "</ol>"
   ]
  },
  {
   "cell_type": "markdown",
   "metadata": {},
   "source": [
    "<b>Quantum correlation (entaglement)</b>\n",
    "<ol start=\"17\">\n",
    "     <li><a href=\"bronze/B38_Two_Qubits.ipynb\" target=\"_blank\">Two Qubits</a></li> \n",
    "    <li><a href=\"bronze/B40_Phase_Kickback.ipynb\" target=\"_blank\">Phase Kickback</a></li>\n",
    "    <li><a href=\"bronze/B50_Superdense_Coding.ipynb\" target=\"_blank\">Entanglement and Superdense Coding</a></li> \n",
    "    <li><a href=\"bronze/B54_Quantum_Teleportation.ipynb\" target=\"_blank\">Quantum Teleportation</a></li>\n",
    "</ol>\n",
    "<!--\n",
    "<ol>\n",
    "    <li><a href=\"bronze/B52_Quantum_State_of_a_Qubit.ipynb\" target=\"_blank\">Quantum State of a Qubit</a></li>\n",
    "    <li><a href=\"bronze/B54_Random_Quantum_States.ipynb\" target=\"_blank\">Random Quantum States</a></li>\n",
    "    <li><a href=\"bronze/B56_Angle_Between_Two_Quantum_States.ipynb\" target=\"_blank\">Angle Between Two Quantum States</a>   \n",
    "</ol>\n",
    "-->"
   ]
  },
  {
   "cell_type": "markdown",
   "metadata": {},
   "source": [
    "<b>Operations on (real-valued) qubits</b>\n",
    "<ol start=\"21\">\n",
    "    <li><a href=\"bronze/B60_Reflections.ipynb\" target=\"_blank\">Reflections</a></li>\n",
    "    <li><a href=\"bronze/B64_Rotations.ipynb\" target=\"_blank\">Rotations</a></li>\n",
    "    <li><a href=\"bronze/B72_Rotation_Automata.ipynb\" target=\"_blank\">Rotation Automata</a></li>\n",
    "    <li><a href=\"bronze/B76_Multiple_Rotations.ipynb\" target=\"_blank\">Multiple Rotations</a></li>\n",
    "</ol>  "
   ]
  },
  {
   "cell_type": "markdown",
   "metadata": {},
   "source": [
    "<b>Grover's search algorithm</b>\n",
    "<ol start=\"25\">\n",
    "    <li><a href=\"bronze/B80_Inversion_About_the_Mean.ipynb\" target=\"_blank\">Inversion About the Mean</a></li>\n",
    "    <li><a href=\"bronze/B88_Grovers_Search_One_Qubit_Reprsentation.ipynb\" target=\"_blank\">Grover's Search: One Qubit Representation</a></li>\n",
    "    <li><a href=\"bronze/B92_Grover_Search_Implementation.ipynb\" target=\"_blank\">Grover's Search: Implementation</a></li>\n",
    "</ol> "
   ]
  }
 ],
 "metadata": {
  "kernelspec": {
   "display_name": "Python 3",
   "language": "python",
   "name": "python3"
  },
  "language_info": {
   "codemirror_mode": {
    "name": "ipython",
    "version": 3
   },
   "file_extension": ".py",
   "mimetype": "text/x-python",
   "name": "python",
   "nbconvert_exporter": "python",
   "pygments_lexer": "ipython3",
   "version": "3.7.1"
  }
 },
 "nbformat": 4,
 "nbformat_minor": 2
}
