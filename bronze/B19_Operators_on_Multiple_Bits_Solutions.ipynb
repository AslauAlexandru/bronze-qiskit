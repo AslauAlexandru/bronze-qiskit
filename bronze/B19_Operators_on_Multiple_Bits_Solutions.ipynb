{
 "cells": [
  {
   "cell_type": "markdown",
   "metadata": {},
   "source": [
    "<table> <tr>\n",
    "        <td  style=\"background-color:#ffffff;\">\n",
    "            <a href=\"http://qworld.lu.lv\" target=\"_blank\"><img src=\"..\\images\\qworld.jpg\" width=\"25%\" align=\"left\"> </a></td>\n",
    "        <td style=\"background-color:#ffffff;vertical-align:bottom;text-align:right;\">\n",
    "            prepared by <a href=\"http://abu.lu.lv\" target=\"_blank\">Abuzer Yakaryilmaz</a> (<a href=\"http://qworld.lu.lv/index.php/qlatvia/\" target=\"_blank\">QLatvia</a>)\n",
    "        </td>        \n",
    "</tr></table>"
   ]
  },
  {
   "cell_type": "markdown",
   "metadata": {},
   "source": [
    "<table width=\"100%\"><tr><td style=\"color:#bbbbbb;background-color:#ffffff;font-size:11px;font-style:italic;text-align:right;\">This cell contains some macros. If there is a problem with displaying mathematical formulas, please run this cell to load these macros. </td></tr></table>\n",
    "$ \\newcommand{\\bra}[1]{\\langle #1|} $\n",
    "$ \\newcommand{\\ket}[1]{|#1\\rangle} $\n",
    "$ \\newcommand{\\braket}[2]{\\langle #1|#2\\rangle} $\n",
    "$ \\newcommand{\\dot}[2]{ #1 \\cdot #2} $\n",
    "$ \\newcommand{\\biginner}[2]{\\left\\langle #1,#2\\right\\rangle} $\n",
    "$ \\newcommand{\\mymatrix}[2]{\\left( \\begin{array}{#1} #2\\end{array} \\right)} $\n",
    "$ \\newcommand{\\myvector}[1]{\\mymatrix{c}{#1}} $\n",
    "$ \\newcommand{\\myrvector}[1]{\\mymatrix{r}{#1}} $\n",
    "$ \\newcommand{\\mypar}[1]{\\left( #1 \\right)} $\n",
    "$ \\newcommand{\\mybigpar}[1]{ \\Big( #1 \\Big)} $\n",
    "$ \\newcommand{\\sqrttwo}{\\frac{1}{\\sqrt{2}}} $\n",
    "$ \\newcommand{\\dsqrttwo}{\\dfrac{1}{\\sqrt{2}}} $\n",
    "$ \\newcommand{\\onehalf}{\\frac{1}{2}} $\n",
    "$ \\newcommand{\\donehalf}{\\dfrac{1}{2}} $\n",
    "$ \\newcommand{\\hadamard}{ \\mymatrix{rr}{ \\sqrttwo & \\sqrttwo \\\\ \\sqrttwo & -\\sqrttwo }} $\n",
    "$ \\newcommand{\\vzero}{\\myvector{1\\\\0}} $\n",
    "$ \\newcommand{\\vone}{\\myvector{0\\\\1}} $\n",
    "$ \\newcommand{\\stateplus}{\\myvector{ \\sqrttwo \\\\  \\sqrttwo } } $\n",
    "$ \\newcommand{\\stateminus}{ \\myrvector{ \\sqrttwo \\\\ -\\sqrttwo } } $\n",
    "$ \\newcommand{\\myarray}[2]{ \\begin{array}{#1}#2\\end{array}} $\n",
    "$ \\newcommand{\\X}{ \\mymatrix{cc}{0 & 1 \\\\ 1 & 0}  } $\n",
    "$ \\newcommand{\\I}{ \\mymatrix{rr}{1 & 0 \\\\ 0 & 1}  } $\n",
    "$ \\newcommand{\\Z}{ \\mymatrix{rr}{1 & 0 \\\\ 0 & -1}  } $\n",
    "$ \\newcommand{\\Htwo}{ \\mymatrix{rrrr}{ \\frac{1}{2} & \\frac{1}{2} & \\frac{1}{2} & \\frac{1}{2} \\\\ \\frac{1}{2} & -\\frac{1}{2} & \\frac{1}{2} & -\\frac{1}{2} \\\\ \\frac{1}{2} & \\frac{1}{2} & -\\frac{1}{2} & -\\frac{1}{2} \\\\ \\frac{1}{2} & -\\frac{1}{2} & -\\frac{1}{2} & \\frac{1}{2} } } $\n",
    "$ \\newcommand{\\CNOT}{ \\mymatrix{cccc}{1 & 0 & 0 & 0 \\\\ 0 & 1 & 0 & 0 \\\\ 0 & 0 & 0 & 1 \\\\ 0 & 0 & 1 & 0} } $\n",
    "$ \\newcommand{\\norm}[1]{ \\left\\lVert #1 \\right\\rVert } $\n",
    "$ \\newcommand{\\pstate}[1]{ \\lceil \\mspace{-1mu} #1 \\mspace{-1.5mu} \\rfloor } $"
   ]
  },
  {
   "cell_type": "markdown",
   "metadata": {},
   "source": [
    "<h2> <font color=\"blue\"> Solutions for </font>Operators on Multiple Bits</h2>"
   ]
  },
  {
   "cell_type": "markdown",
   "metadata": {},
   "source": [
    "<a id=\"task1\"></a>\n",
    "<h3> Task 1</h3>\n",
    "\n",
    "We have two bits. What is $ (4 \\times 4) $-dimensional matrix representation of the probabilistic operator $ M =  \\mymatrix{c}{ 0.2 & 0.7 \\\\ 0.8 & 0.3  } $ applied to the first bit?"
   ]
  },
  {
   "cell_type": "markdown",
   "metadata": {},
   "source": [
    "<h3>Solution</h3>\n",
    "\n",
    "We assume that the identity operator is applied to the second bit:\n",
    "\n",
    "$$ M \\otimes I = \\mymatrix{rr}{ 0.2 & 0.7 \\\\ 0.8 & 0.3  } \\otimes \\I = \\mymatrix{rrrr}{ 0.2 & 0 & 0.7 & 0 \\\\\n",
    "0 & 0.2 & 0 & 0.7 \\\\ 0.8 & 0 & 0.3 & 0 \\\\ 0 & 0.8 & 0 & 0.3} $$."
   ]
  },
  {
   "cell_type": "markdown",
   "metadata": {},
   "source": [
    "<a id=\"task2\"></a>\n",
    "<h3> Task 2</h3>\n",
    "\n",
    "We have three bits. What is $ (8 \\times 8) $-dimensional matrix representation of the probabilistic operator $ M =  \\mymatrix{c}{ 0.9 & 0.4 \\\\ 0.1 & 0.6  } $ applied to the second bit?"
   ]
  },
  {
   "cell_type": "markdown",
   "metadata": {},
   "source": [
    "<h3>Solution</h3>\n",
    "\n",
    "We assume that the identity operators are applied to the first and third bits:\n",
    "\n",
    "$$ I \\otimes M \\otimes I = \\I \\otimes \\mymatrix{rr}{ 0.9 & 0.4 \\\\ 0.1 & 0.6  } \\otimes \\I = \\I \\otimes \\mymatrix{rrrr}{ 0.9 & 0 & 0.4 & 0 \\\\ 0 & 0.9 & 0 & 0.4 \\\\ 0.1 & 0 & 0.6 & 0 \\\\ 0 & 0.1 & 0 & 0.6} $$\n",
    "\n",
    "$$ = \\mymatrix{rrrr|rrrrr}{0.9 & 0 & 0.4 & 0 & 0 & 0 & 0 & 0 \\\\ 0 & 0.9 & 0 & 0.4 & 0 & 0 & 0 & 0 \\\\ 0.1 & 0 & 0.6 & 0 & 0 & 0 & 0 & 0 \\\\ 0 & 0.1 & 0 & 0.6 & 0 & 0 & 0 & 0\n",
    "\\\\ \\hline 0 & 0 & 0 & 0 & 0.9 & 0 & 0.4 & 0 \\\\ 0 & 0 & 0 & 0 & 0 & 0.9 & 0 & 0.4 \\\\ 0 & 0 & 0 & 0 & 0.1 & 0 & 0.6 & 0 \\\\ 0 & 0 & 0 & 0 & 0 & 0.1 & 0 & 0.6} $$"
   ]
  },
  {
   "cell_type": "markdown",
   "metadata": {},
   "source": [
    "<a id=\"task4\"></a>\n",
    "<h3> Task 4 </h3>\n",
    "\n",
    "We have three bits and the  probabilistic operator \n",
    "$ M = \\mymatrix{rrrr}{0.05 & 0 & 0.70 & 0.60 \\\\ 0.45 & 0.50 & 0.20 & 0.25 \\\\ 0.20 & 0.35 & 0.10 & 0 \\\\ 0.30 & 0.15 & 0 & 0.15 } $\n",
    "to the first and third bits. \n",
    "\n",
    "What is the corresponding the $(8 \\times 8)$-dimensional matrix applied to the whole system?\n",
    "\n",
    "*You may solve this task by using python.*"
   ]
  },
  {
   "cell_type": "markdown",
   "metadata": {},
   "source": [
    "<h3>Solution</h3>\n",
    "\n",
    "We use python to construct the new matrix."
   ]
  },
  {
   "cell_type": "code",
   "execution_count": null,
   "metadata": {},
   "outputs": [],
   "source": [
    "# the given matrix\n",
    "M = [\n",
    "    [0.05, 0, 0.70, 0.60],\n",
    "    [0.45, 0.50, 0.20, 0.25],\n",
    "    [0.20, 0.35, 0.10, 0],\n",
    "    [0.30, 0.15, 0, 0.15]\n",
    "]\n",
    "print(\"Matrix M is\")\n",
    "for row in M:\n",
    "    print(row)\n",
    "print()\n",
    "\n",
    "# the target matrix is K\n",
    "# we create it with zeros\n",
    "K = []\n",
    "for i in range(8):\n",
    "    K.append([])\n",
    "    for j in range(8):\n",
    "        K[i].append(0)\n",
    "\n",
    "# for each transition in M, we create four transitions in K,\n",
    "#    two of which are always zeros\n",
    "for col in ['00','01','10','11']:\n",
    "    for row in ['00','01','10','11']:\n",
    "        val = M[int(col,2)][int(row,2)]\n",
    "        # second bit is 0\n",
    "        newcol = col[0]+'0'+col[1]\n",
    "        newrow = row[0]+'0'+row[1]\n",
    "        K[int(newcol,2)][int(newrow,2)] = val\n",
    "        # second bit is 1\n",
    "        newcol = col[0]+'1'+col[1]\n",
    "        newrow = row[0]+'1'+row[1]\n",
    "        K[int(newcol,2)][int(newrow,2)] = val\n",
    "print(\"Matrix K is\")\n",
    "for row in K:\n",
    "    print(row)        "
   ]
  },
  {
   "cell_type": "markdown",
   "metadata": {},
   "source": [
    "$$ \n",
    "M = \\mymatrix{rrrr}{0.05 & 0 & 0.70 & 0.60 \\\\ 0.45 & 0.50 & 0.20 & 0.25 \\\\ 0.20 & 0.35 & 0.10 & 0 \\\\ 0.30 & 0.15 & 0 & 0.15 } \n",
    "\\Rightarrow\n",
    "K = \\mymatrix{rrrrrrrr}{\n",
    "0.05 & 0 & 0 & 0.70 & 0.60 & 0 & 0 \\\\\n",
    "0.45 & 0.50 & 0 & 0 & 0.20 & 0.25 & 0 & 0 \\\\\n",
    "0 & 0 & 0.05 & 0 & 0 & 0 & 0.7 & 0.6 \\\\\n",
    "0 & 0 & 0.45 & 0.50 & 0 & 0 & 0.20 & 0.25 \\\\\n",
    "0.20 & 0.35 & 0 & 0 & 0.1 & 0 & 0 & 0 \\\\\n",
    "0.30 & 0.15 & 0 & 0 & 0 & 0.15 & 0 & 0 \\\\\n",
    "0 & 0 & 0.20 & 0.35 & 0 & 0 & 0.10 & 0 \\\\\n",
    "0 & 0 & 0.30 & 0.15 & 0 & 0 & 0 & 0.15\n",
    "}\n",
    "$$"
   ]
  }
 ],
 "metadata": {
  "kernelspec": {
   "display_name": "Python 3",
   "language": "python",
   "name": "python3"
  },
  "language_info": {
   "codemirror_mode": {
    "name": "ipython",
    "version": 3
   },
   "file_extension": ".py",
   "mimetype": "text/x-python",
   "name": "python",
   "nbconvert_exporter": "python",
   "pygments_lexer": "ipython3",
   "version": "3.7.4"
  }
 },
 "nbformat": 4,
 "nbformat_minor": 2
}
