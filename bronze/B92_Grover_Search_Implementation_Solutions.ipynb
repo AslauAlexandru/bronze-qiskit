{
 "cells": [
  {
   "cell_type": "markdown",
   "metadata": {},
   "source": [
    "<table>\n",
    "    <tr>\n",
    "        <td style=\"background-color:#ffffff;\"><img src=\"..\\images\\qworld.jpg\" width=\"70%\" align=\"left\"></td>  \n",
    "         <td style=\"background-color:#ffffff;\"><img src=\"..\\images\\logo.jpg\" width=\"25%\" align=\"right\"></td>       \n",
    "    </tr>\n",
    "    <tr><td colspan=\"2\" align=\"right\" style=\"color:#777777;background-color:#ffffff;font-size:12px;\">\n",
    "        Maksim Dimitrijev | July 07, 2019 (updated) \n",
    "    </td></tr>\n",
    "    <tr><td colspan=\"2\" align=\"right\" style=\"color:#bbbbbb;background-color:#ffffff;font-size:11px;font-style:italic;\">\n",
    "        This cell contains some macros. If there is a problem with displaying mathematical formulas, please run this cell to load these macros.\n",
    "    </td></tr>\n",
    "</table>\n",
    "$ \\newcommand{\\bra}[1]{\\langle #1|} $\n",
    "$ \\newcommand{\\ket}[1]{|#1\\rangle} $\n",
    "$ \\newcommand{\\braket}[2]{\\langle #1|#2\\rangle} $\n",
    "$ \\newcommand{\\dot}[2]{ #1 \\cdot #2} $\n",
    "$ \\newcommand{\\biginner}[2]{\\left\\langle #1,#2\\right\\rangle} $\n",
    "$ \\newcommand{\\mymatrix}[2]{\\left( \\begin{array}{#1} #2\\end{array} \\right)} $\n",
    "$ \\newcommand{\\myvector}[1]{\\mymatrix{c}{#1}} $\n",
    "$ \\newcommand{\\myrvector}[1]{\\mymatrix{r}{#1}} $\n",
    "$ \\newcommand{\\mypar}[1]{\\left( #1 \\right)} $\n",
    "$ \\newcommand{\\mybigpar}[1]{ \\Big( #1 \\Big)} $\n",
    "$ \\newcommand{\\sqrttwo}{\\frac{1}{\\sqrt{2}}} $\n",
    "$ \\newcommand{\\dsqrttwo}{\\dfrac{1}{\\sqrt{2}}} $\n",
    "$ \\newcommand{\\onehalf}{\\frac{1}{2}} $\n",
    "$ \\newcommand{\\donehalf}{\\dfrac{1}{2}} $\n",
    "$ \\newcommand{\\hadamard}{ \\mymatrix{rr}{ \\sqrttwo & \\sqrttwo \\\\ \\sqrttwo & -\\sqrttwo }} $\n",
    "$ \\newcommand{\\vzero}{\\myvector{1\\\\0}} $\n",
    "$ \\newcommand{\\vone}{\\myvector{0\\\\1}} $\n",
    "$ \\newcommand{\\vhadamardzero}{\\myvector{ \\sqrttwo \\\\  \\sqrttwo } } $\n",
    "$ \\newcommand{\\vhadamardone}{ \\myrvector{ \\sqrttwo \\\\ -\\sqrttwo } } $\n",
    "$ \\newcommand{\\myarray}[2]{ \\begin{array}{#1}#2\\end{array}} $\n",
    "$ \\newcommand{\\X}{ \\mymatrix{cc}{0 & 1 \\\\ 1 & 0}  } $\n",
    "$ \\newcommand{\\Z}{ \\mymatrix{rr}{1 & 0 \\\\ 0 & -1}  } $\n",
    "$ \\newcommand{\\Htwo}{ \\mymatrix{rrrr}{ \\frac{1}{2} & \\frac{1}{2} & \\frac{1}{2} & \\frac{1}{2} \\\\ \\frac{1}{2} & -\\frac{1}{2} & \\frac{1}{2} & -\\frac{1}{2} \\\\ \\frac{1}{2} & \\frac{1}{2} & -\\frac{1}{2} & -\\frac{1}{2} \\\\ \\frac{1}{2} & -\\frac{1}{2} & -\\frac{1}{2} & \\frac{1}{2} } } $\n",
    "$ \\newcommand{\\CNOT}{ \\mymatrix{cccc}{1 & 0 & 0 & 0 \\\\ 0 & 1 & 0 & 0 \\\\ 0 & 0 & 0 & 1 \\\\ 0 & 0 & 1 & 0} } $\n",
    "$ \\newcommand{\\norm}[1]{ \\left\\lVert #1 \\right\\rVert } $"
   ]
  },
  {
   "cell_type": "markdown",
   "metadata": {},
   "source": [
    "<h2> <font color=\"blue\"> Solutions for </font>Grover's Search: Implementation</h2>"
   ]
  },
  {
   "cell_type": "markdown",
   "metadata": {},
   "source": [
    "<a id=\"task1\"></a>\n",
    "<h3>Task 1</h3>\n",
    "\n",
    "Implement the operation $\\mymatrix{cc}{-1 & 0 \\\\ 0 & 1}$.\n",
    "\n",
    "You can use the knowledge about the implementation of $-I$."
   ]
  },
  {
   "cell_type": "markdown",
   "metadata": {},
   "source": [
    "<h3>Solution</h3>"
   ]
  },
  {
   "cell_type": "code",
   "execution_count": null,
   "metadata": {},
   "outputs": [],
   "source": [
    "from qiskit import QuantumRegister, ClassicalRegister, QuantumCircuit, execute, Aer\n",
    "\n",
    "qreg1 =  QuantumRegister(1)\n",
    "creg1 = ClassicalRegister(1)\n",
    "\n",
    "circuit1 = QuantumCircuit(qreg1,creg1)\n",
    "\n",
    "#Our operator\n",
    "circuit1.x(qreg1[0])\n",
    "circuit1.z(qreg1[0])\n",
    "circuit1.x(qreg1[0])\n",
    "\n",
    "#Let's print the resulting operator.\n",
    "job = execute(circuit1,Aer.get_backend('unitary_simulator'))\n",
    "u=job.result().get_unitary(circuit1,decimals=3)\n",
    "for i in range(len(u)):\n",
    "    s=\"\"\n",
    "    for j in range(len(u)):\n",
    "        val = str(u[i][j].real)\n",
    "        while(len(val)<5): val  = \" \"+val\n",
    "        s = s + val\n",
    "    print(s)"
   ]
  },
  {
   "cell_type": "markdown",
   "metadata": {},
   "source": [
    "<a id=\"task2\"></a>\n",
    "<h3>Task 2</h3>\n",
    "\n",
    "Implement the operation $\\mymatrix{cccc}{1 & 0 & 0 & 0 \\\\ 0 & 1 & 0 & 0 \\\\ 0 & 0 & -1 & 0 \\\\ 0 & 0 & 0 & 1}$.\n",
    "\n",
    "You can use controlled-Z and other controlled gates."
   ]
  },
  {
   "cell_type": "markdown",
   "metadata": {},
   "source": [
    "<h3>Solution</h3>"
   ]
  },
  {
   "cell_type": "code",
   "execution_count": null,
   "metadata": {},
   "outputs": [],
   "source": [
    "from qiskit import QuantumRegister, ClassicalRegister, QuantumCircuit, execute, Aer\n",
    "\n",
    "qreg2 =  QuantumRegister(2)\n",
    "creg2 = ClassicalRegister(2)\n",
    "\n",
    "circuit2 = QuantumCircuit(qreg2,creg2)\n",
    "\n",
    "#Our operator\n",
    "circuit2.cx(qreg2[1],qreg2[0])\n",
    "circuit2.cz(qreg2[1],qreg2[0])\n",
    "circuit2.cx(qreg2[1],qreg2[0])\n",
    "\n",
    "#Let's print the resulting operator.\n",
    "job = execute(circuit2,Aer.get_backend('unitary_simulator'))\n",
    "u=job.result().get_unitary(circuit2,decimals=3)\n",
    "for i in range(len(u)):\n",
    "    s=\"\"\n",
    "    for j in range(len(u)):\n",
    "        val = str(u[i][j].real)\n",
    "        while(len(val)<5): val  = \" \"+val\n",
    "        s = s + val\n",
    "    print(s)"
   ]
  },
  {
   "cell_type": "markdown",
   "metadata": {},
   "source": [
    "<a id=\"task3\"></a>\n",
    "<h3>Task 3</h3>\n",
    "\n",
    "Implement the query operation for $n=2$ ($N=4$).\n",
    "\n",
    "As a result you need to define the following function: <i>query(circuit,quantum_reg,number)</i>, where:\n",
    "<ul>\n",
    "    <li><i>circuit</i> allows to pass the quantum circuit;</li>\n",
    "    <li><i>quantum_reg</i> allows to pass the quantum register;</li>\n",
    "    <li><i>number</i> is the number of marked element, between 0 and 3.</li>\n",
    "</ul>"
   ]
  },
  {
   "cell_type": "markdown",
   "metadata": {},
   "source": [
    "<h3>Solution</h3>"
   ]
  },
  {
   "cell_type": "code",
   "execution_count": null,
   "metadata": {},
   "outputs": [],
   "source": [
    "def controlled_anti_z(circuit, q0, q1):\n",
    "    circuit.cx(q0,q1)\n",
    "    circuit.cz(q0,q1)\n",
    "    circuit.cx(q0,q1)\n",
    "\n",
    "#number - marked element, between 0 and 3.\n",
    "def query(circuit,quantum_reg,number):\n",
    "    if(number%4 < 2):\n",
    "        circuit.x(quantum_reg[1])\n",
    "    if(number%2 == 0):\n",
    "        controlled_anti_z(circuit,quantum_reg[1],quantum_reg[0])\n",
    "    else:\n",
    "        circuit.cz(quantum_reg[1],quantum_reg[0])\n",
    "    if(number%4 < 2):\n",
    "        circuit.x(quantum_reg[1])"
   ]
  },
  {
   "cell_type": "markdown",
   "metadata": {},
   "source": [
    "You can play around with the following code to see that your function is implementing the query operation. How to use this to mark 2 elements?"
   ]
  },
  {
   "cell_type": "code",
   "execution_count": null,
   "metadata": {},
   "outputs": [],
   "source": [
    "qreg3 =  QuantumRegister(2)\n",
    "creg3 = ClassicalRegister(2)\n",
    "\n",
    "mycircuit3 = QuantumCircuit(qreg3,creg3)\n",
    "\n",
    "#Any value between 0 and 3.\n",
    "query(mycircuit3,qreg3,1)\n",
    "#Uncomment the next line to mark additional element.\n",
    "#query(mycircuit3,qreg3,2)\n",
    "\n",
    "job = execute(mycircuit3,Aer.get_backend('unitary_simulator'))\n",
    "u=job.result().get_unitary(mycircuit3,decimals=3)\n",
    "for i in range(len(u)):\n",
    "    s=\"\"\n",
    "    for j in range(len(u)):\n",
    "        val = str(u[i][j].real)\n",
    "        while(len(val)<5): val  = \" \"+val\n",
    "        s = s + val\n",
    "    print(s)"
   ]
  },
  {
   "cell_type": "markdown",
   "metadata": {},
   "source": [
    "<a id=\"task4\"></a>\n",
    "<h3>Task 4 (Optional, challenging)</h3>\n",
    "\n",
    "Implement the query operation for $n=3$ ($N=8$).\n",
    "\n",
    "To implements this operation you will need 4 qubits (1 additional qubit to implement controlled operations). Use the qubit 3 as additional qubit."
   ]
  },
  {
   "cell_type": "markdown",
   "metadata": {},
   "source": [
    "<h3>Solution</h3>"
   ]
  },
  {
   "cell_type": "code",
   "execution_count": null,
   "metadata": {},
   "outputs": [],
   "source": [
    "def controlled_anti_z(circuit, q0, q1):\n",
    "    circuit.cx(q0,q1)\n",
    "    circuit.cz(q0,q1)\n",
    "    circuit.cx(q0,q1)\n",
    "\n",
    "#number - marked element, between 0 and 7.\n",
    "def big_query(circuit,quantum_reg,number):\n",
    "    if(number%4 < 2):\n",
    "        circuit.x(quantum_reg[1])\n",
    "    if(number%8 < 4):\n",
    "        circuit.x(quantum_reg[2])\n",
    "    circuit.ccx(quantum_reg[2],quantum_reg[1],quantum_reg[3])\n",
    "    if(number%2 == 0):\n",
    "        controlled_anti_z(circuit,quantum_reg[3],quantum_reg[0])\n",
    "    else:\n",
    "        circuit.cz(quantum_reg[3],quantum_reg[0])\n",
    "    circuit.ccx(quantum_reg[2],quantum_reg[1],quantum_reg[3])\n",
    "    if(number%8 < 4):\n",
    "        circuit.x(quantum_reg[2])\n",
    "    if(number%4 < 2):\n",
    "        circuit.x(quantum_reg[1])"
   ]
  },
  {
   "cell_type": "markdown",
   "metadata": {},
   "source": [
    "You can play around with the following code to see that your function is implementing the query operation."
   ]
  },
  {
   "cell_type": "code",
   "execution_count": null,
   "metadata": {},
   "outputs": [],
   "source": [
    "big_qreg =  QuantumRegister(4)\n",
    "big_creg = ClassicalRegister(4)\n",
    "\n",
    "big_mycircuit = QuantumCircuit(big_qreg,big_creg)\n",
    "\n",
    "#Any value between 0 and 7.\n",
    "big_query(big_mycircuit,big_qreg,5)\n",
    "\n",
    "job = execute(big_mycircuit,Aer.get_backend('unitary_simulator'))\n",
    "u=job.result().get_unitary(big_mycircuit,decimals=3)\n",
    "# print top-left 8x8 entries of the matrix.\n",
    "for i in range(8):\n",
    "    s=\"\"\n",
    "    for j in range(8):\n",
    "        val = str(u[i][j].real)\n",
    "        while(len(val)<5): val  = \" \"+val\n",
    "        s = s + val\n",
    "    print(s)"
   ]
  },
  {
   "cell_type": "markdown",
   "metadata": {},
   "source": [
    "<a id=\"task5\"></a>\n",
    "<h3>Task 5</h3>\n",
    "\n",
    "Implement the inversion operation, including the optional step of applying ZXZX to the qubit 0.\n",
    "\n",
    "In the implementation the ancilla qubit will be qubit 2, while qubits for control are 0 and 1. As a result you should obtain the following values in the top-left $4 \\times 4$ entries:\n",
    "\n",
    "$\\mymatrix{cccc}{-0.5 & 0.5 & 0.5 & 0.5 \\\\ 0.5 & -0.5 & 0.5 & 0.5 \\\\ 0.5 & 0.5 & -0.5 & 0.5 \\\\ 0.5 & 0.5 & 0.5 & -0.5}$."
   ]
  },
  {
   "cell_type": "markdown",
   "metadata": {},
   "source": [
    "<h3>Solution</h3>"
   ]
  },
  {
   "cell_type": "code",
   "execution_count": null,
   "metadata": {},
   "outputs": [],
   "source": [
    "def inversion(circuit,quantum_reg):\n",
    "    #step 1\n",
    "    circuit.x(quantum_reg[2])\n",
    "    circuit.h(quantum_reg[2])\n",
    "    \n",
    "    #step 2\n",
    "    circuit.h(quantum_reg[1])\n",
    "    circuit.h(quantum_reg[0])\n",
    "    circuit.x(quantum_reg[1])\n",
    "    circuit.x(quantum_reg[0])\n",
    "\n",
    "    #step 3\n",
    "    circuit.ccx(quantum_reg[1],quantum_reg[0],quantum_reg[2])\n",
    "\n",
    "    #step 4\n",
    "    circuit.x(quantum_reg[1])\n",
    "    circuit.x(quantum_reg[0])\n",
    "    circuit.h(quantum_reg[1])\n",
    "    circuit.h(quantum_reg[0])\n",
    "\n",
    "    #step 5\n",
    "    circuit.h(quantum_reg[2])\n",
    "    circuit.x(quantum_reg[2])\n",
    "    \n",
    "    #step 6\n",
    "    circuit.z(quantum_reg[0])\n",
    "    circuit.x(quantum_reg[0])\n",
    "    circuit.z(quantum_reg[0])\n",
    "    circuit.x(quantum_reg[0])"
   ]
  },
  {
   "cell_type": "markdown",
   "metadata": {},
   "source": [
    "Below you can check the matrix of your inversion operator and how does the circuit look like. We are interested in top-left $4 \\times 4$ part of the matrix, the remaining parts are because we used ancilla qubit."
   ]
  },
  {
   "cell_type": "code",
   "execution_count": null,
   "metadata": {},
   "outputs": [],
   "source": [
    "qreg4 =  QuantumRegister(3)\n",
    "creg4 = ClassicalRegister(3)\n",
    "\n",
    "mycircuit4 = QuantumCircuit(qreg4,creg4)\n",
    "\n",
    "inversion(mycircuit4,qreg4)\n",
    "\n",
    "job = execute(mycircuit4,Aer.get_backend('unitary_simulator'))\n",
    "u=job.result().get_unitary(mycircuit4,decimals=3)\n",
    "for i in range(len(u)):\n",
    "    s=\"\"\n",
    "    for j in range(len(u)):\n",
    "        val = str(u[i][j].real)\n",
    "        while(len(val)<5): val  = \" \"+val\n",
    "        s = s + val\n",
    "    print(s)\n",
    "    \n",
    "mycircuit4.draw(output='mpl')"
   ]
  },
  {
   "cell_type": "markdown",
   "metadata": {},
   "source": [
    "<a id=\"task6\"></a>\n",
    "<h3>Task 6 (Optional, challenging)</h3>\n",
    "\n",
    "Implement the inversion operation for $n=3$ ($N=8$), including the optional step of applying ZXZX to the qubit 0. This time you will need 5 qubits - 3 for the operation, 1 for ancilla, and one more qubit to ensure the operation of 3 qubits controlling the other qubit.\n",
    "\n",
    "In the implementation the ancilla qubit will be qubit 4, while qubits for control are 0, 1 and 2; qubit 3 is used to ensure this multiple control operation. As a result you should obtain the following values in the top-left $8 \\times 8$ entries:\n",
    "\n",
    "$\\mymatrix{cccccccc}{-0.75 & 0.25 & 0.25 & 0.25 & 0.25 & 0.25 & 0.25 & 0.25 \\\\ 0.25 & -0.75 & 0.25 & 0.25 & 0.25 & 0.25 & 0.25 & 0.25 \\\\ 0.25 & 0.25 & -0.75 & 0.25 & 0.25 & 0.25 & 0.25 & 0.25 \\\\ 0.25 & 0.25 & 0.25 & -0.75 & 0.25 & 0.25 & 0.25 & 0.25 \\\\ 0.25 & 0.25 & 0.25 & 0.25 & -0.75 & 0.25 & 0.25 & 0.25 \\\\ 0.25 & 0.25 & 0.25 & 0.25 & 0.25 & -0.75 & 0.25 & 0.25 \\\\ 0.25 & 0.25 & 0.25 & 0.25 & 0.25 & 0.25 & -0.75 & 0.25 \\\\ 0.25 & 0.25 & 0.25 & 0.25 & 0.25 & 0.25 & 0.25 & -0.75}$."
   ]
  },
  {
   "cell_type": "markdown",
   "metadata": {},
   "source": [
    "<h3>Solution</h3>"
   ]
  },
  {
   "cell_type": "code",
   "execution_count": null,
   "metadata": {},
   "outputs": [],
   "source": [
    "def big_inversion(circuit,quantum_reg):\n",
    "    circuit.x(quantum_reg[4])\n",
    "    circuit.h(quantum_reg[4])\n",
    "\n",
    "    for i in range(3):\n",
    "        circuit.h(quantum_reg[i])\n",
    "        circuit.x(quantum_reg[i])\n",
    "\n",
    "    circuit.ccx(quantum_reg[1],quantum_reg[0],quantum_reg[3])\n",
    "    circuit.ccx(quantum_reg[2],quantum_reg[3],quantum_reg[4])\n",
    "    circuit.ccx(quantum_reg[1],quantum_reg[0],quantum_reg[3])\n",
    "\n",
    "    for i in range(3):\n",
    "        circuit.x(quantum_reg[i])\n",
    "        circuit.h(quantum_reg[i])\n",
    "\n",
    "    circuit.h(quantum_reg[4])\n",
    "    circuit.x(quantum_reg[4])\n",
    "    \n",
    "    circuit.z(quantum_reg[0])\n",
    "    circuit.x(quantum_reg[0])\n",
    "    circuit.z(quantum_reg[0])\n",
    "    circuit.x(quantum_reg[0])"
   ]
  },
  {
   "cell_type": "markdown",
   "metadata": {},
   "source": [
    "Below you can check the matrix of your inversion operator. We are interested in the top-left $8 \\times 8$ part of the matrix, the remaining parts are because of additional qubits."
   ]
  },
  {
   "cell_type": "code",
   "execution_count": null,
   "metadata": {},
   "outputs": [],
   "source": [
    "big_qreg2 =  QuantumRegister(5)\n",
    "big_creg2 = ClassicalRegister(5)\n",
    "\n",
    "big_mycircuit2 = QuantumCircuit(big_qreg2,big_creg2)\n",
    "\n",
    "big_inversion(big_mycircuit2,big_qreg2)\n",
    "\n",
    "job = execute(big_mycircuit2,Aer.get_backend('unitary_simulator'))\n",
    "u=job.result().get_unitary(big_mycircuit2,decimals=3)\n",
    "for i in range(8):\n",
    "    s=\"\"\n",
    "    for j in range(8):\n",
    "        val = str(u[i][j].real)\n",
    "        while(len(val)<6): val  = \" \"+val\n",
    "        s = s + val\n",
    "    print(s)"
   ]
  },
  {
   "cell_type": "code",
   "execution_count": null,
   "metadata": {},
   "outputs": [],
   "source": []
  }
 ],
 "metadata": {
  "kernelspec": {
   "display_name": "Python 3",
   "language": "python",
   "name": "python3"
  },
  "language_info": {
   "codemirror_mode": {
    "name": "ipython",
    "version": 3
   },
   "file_extension": ".py",
   "mimetype": "text/x-python",
   "name": "python",
   "nbconvert_exporter": "python",
   "pygments_lexer": "ipython3",
   "version": "3.7.1"
  }
 },
 "nbformat": 4,
 "nbformat_minor": 2
}
