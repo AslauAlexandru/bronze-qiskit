{
 "cells": [
  {
   "cell_type": "markdown",
   "metadata": {},
   "source": [
    "<table>\n",
    "    <tr>\n",
    "        <td style=\"background-color:#ffffff;\"><img src=\"..\\images\\qworld.jpg\" width=\"70%\" align=\"left\"></td>  \n",
    "         <td style=\"background-color:#ffffff;\"><img src=\"..\\images\\logo.jpg\" width=\"25%\" align=\"right\"></td>       \n",
    "    </tr>\n",
    "    <tr><td colspan=\"2\" align=\"right\" style=\"color:#777777;background-color:#ffffff;font-size:12px;\">\n",
    "        Abuzer Yakaryilmaz | July 07, 2019 (updated) \n",
    "    </td></tr>\n",
    "    <tr><td colspan=\"2\" align=\"right\" style=\"color:#bbbbbb;background-color:#ffffff;font-size:11px;font-style:italic;\">\n",
    "        This cell contains some macros. If there is a problem with displaying mathematical formulas, please run this cell to load these macros.\n",
    "    </td></tr>\n",
    "</table>\n",
    "$ \\newcommand{\\bra}[1]{\\langle #1|} $\n",
    "$ \\newcommand{\\ket}[1]{|#1\\rangle} $\n",
    "$ \\newcommand{\\braket}[2]{\\langle #1|#2\\rangle} $\n",
    "$ \\newcommand{\\dot}[2]{ #1 \\cdot #2} $\n",
    "$ \\newcommand{\\biginner}[2]{\\left\\langle #1,#2\\right\\rangle} $\n",
    "$ \\newcommand{\\mymatrix}[2]{\\left( \\begin{array}{#1} #2\\end{array} \\right)} $\n",
    "$ \\newcommand{\\myvector}[1]{\\mymatrix{c}{#1}} $\n",
    "$ \\newcommand{\\myrvector}[1]{\\mymatrix{r}{#1}} $\n",
    "$ \\newcommand{\\mypar}[1]{\\left( #1 \\right)} $\n",
    "$ \\newcommand{\\mybigpar}[1]{ \\Big( #1 \\Big)} $\n",
    "$ \\newcommand{\\sqrttwo}{\\frac{1}{\\sqrt{2}}} $\n",
    "$ \\newcommand{\\dsqrttwo}{\\dfrac{1}{\\sqrt{2}}} $\n",
    "$ \\newcommand{\\onehalf}{\\frac{1}{2}} $\n",
    "$ \\newcommand{\\donehalf}{\\dfrac{1}{2}} $\n",
    "$ \\newcommand{\\hadamard}{ \\mymatrix{rr}{ \\sqrttwo & \\sqrttwo \\\\ \\sqrttwo & -\\sqrttwo }} $\n",
    "$ \\newcommand{\\vzero}{\\myvector{1\\\\0}} $\n",
    "$ \\newcommand{\\vone}{\\myvector{0\\\\1}} $\n",
    "$ \\newcommand{\\vhadamardzero}{\\myvector{ \\sqrttwo \\\\  \\sqrttwo } } $\n",
    "$ \\newcommand{\\vhadamardone}{ \\myrvector{ \\sqrttwo \\\\ -\\sqrttwo } } $\n",
    "$ \\newcommand{\\myarray}[2]{ \\begin{array}{#1}#2\\end{array}} $\n",
    "$ \\newcommand{\\X}{ \\mymatrix{cc}{0 & 1 \\\\ 1 & 0}  } $\n",
    "$ \\newcommand{\\Z}{ \\mymatrix{rr}{1 & 0 \\\\ 0 & -1}  } $\n",
    "$ \\newcommand{\\Htwo}{ \\mymatrix{rrrr}{ \\frac{1}{2} & \\frac{1}{2} & \\frac{1}{2} & \\frac{1}{2} \\\\ \\frac{1}{2} & -\\frac{1}{2} & \\frac{1}{2} & -\\frac{1}{2} \\\\ \\frac{1}{2} & \\frac{1}{2} & -\\frac{1}{2} & -\\frac{1}{2} \\\\ \\frac{1}{2} & -\\frac{1}{2} & -\\frac{1}{2} & \\frac{1}{2} } } $\n",
    "$ \\newcommand{\\CNOT}{ \\mymatrix{cccc}{1 & 0 & 0 & 0 \\\\ 0 & 1 & 0 & 0 \\\\ 0 & 0 & 0 & 1 \\\\ 0 & 0 & 1 & 0} } $\n",
    "$ \\newcommand{\\norm}[1]{ \\left\\lVert #1 \\right\\rVert } $\n",
    "$ \\newcommand{\\pstate}[1]{ \\lceil \\mspace{-1mu} #1 \\mspace{-1.5mu} \\rfloor } $"
   ]
  },
  {
   "cell_type": "markdown",
   "metadata": {},
   "source": [
    "<h2> Correlation</h2>"
   ]
  },
  {
   "cell_type": "markdown",
   "metadata": {},
   "source": [
    "Asja has one euro and Balvis has one cent.\n",
    "\n",
    "Both coins are fair and we do not see their coins. \n",
    "\n",
    "They start with head (state 0).\n",
    "<br>\n",
    "Asja flips her coin once. Then, the probabilistic states of Asja and Balvis are $ \\myvector{\\frac{1}{2} \\\\ \\frac{1}{2}} $ and $ \\myvector{1 \\\\ 0} $, respectively."
   ]
  },
  {
   "cell_type": "markdown",
   "metadata": {},
   "source": [
    "<h3> Task 1</h3>\n",
    "\n",
    "Calculate the state of composite system."
   ]
  },
  {
   "cell_type": "markdown",
   "metadata": {},
   "source": [
    "<a href=\"B18_Correlation_Solutions.ipynb#task1\">click for our solution</a>"
   ]
  },
  {
   "cell_type": "markdown",
   "metadata": {},
   "source": [
    "<h3> Task 2</h3>\n",
    "\n",
    "They apply Controlled-NOT operator on their coins, which operates on two bits:\n",
    "\n",
    "$$\n",
    "    CNOT = \\CNOT.\n",
    "$$\n",
    "\n",
    "<i> The effect of CNOT is that, if the state of the first bit is 1, then the value of the second bit is flipped. </i>\n",
    "\n",
    "Verify that the state of composite system is $ \\frac{1}{2} \\pstate{00} + \\frac{1}{2} \\pstate{11} $."
   ]
  },
  {
   "cell_type": "markdown",
   "metadata": {},
   "source": [
    "<a href=\"B18_Correlation_Solutions.ipynb#task2\">click for our solution</a>"
   ]
  },
  {
   "cell_type": "markdown",
   "metadata": {},
   "source": [
    "<h3> Task 3 </h3>\n",
    "\n",
    "<b>Discussion and analysis:</b>\n",
    "\n",
    "Suppose that Asja and Balvis separate from each other without changing their states. \n",
    "\n",
    "If we see the Asja's coin, then can we guess the state of Balvis' coin, and vice versa? \n",
    "\n",
    "If so, we can say that both bits are correlated to each other."
   ]
  },
  {
   "cell_type": "markdown",
   "metadata": {},
   "source": [
    "<h3>Correlated systems</h3>\n",
    "\n",
    "If the state of a composite system cannot be written as the tensor product of the states of its sub-systems, then we can say that sub-systems are correlated."
   ]
  },
  {
   "cell_type": "markdown",
   "metadata": {},
   "source": [
    "<h3>Task 4</h3>\n",
    "\n",
    "Show that it is not possible to write $ \\myvector{ \\frac{1}{2} \\\\ 0 \\\\ 0 \\\\ \\frac{1}{2} } $ as $ \\myvector{a\\\\b} \\otimes \\myvector{c\\\\d} $ for some numbers $ a,b,c,$ and $d $.\n",
    "\n",
    "<i>Remark that the correlation in general might not be easily shown as in this basic example. </i>"
   ]
  },
  {
   "cell_type": "markdown",
   "metadata": {},
   "source": [
    "<a href=\"B18_Correlation_Solutions.ipynb#task4\">click for our solution</a>"
   ]
  },
  {
   "cell_type": "markdown",
   "metadata": {},
   "source": [
    "<hr>"
   ]
  },
  {
   "cell_type": "markdown",
   "metadata": {},
   "source": [
    "<h3>Freivalds (Optional)</h3>\n",
    "\n",
    "Freivalds is a probabilistic system with two bits."
   ]
  },
  {
   "cell_type": "markdown",
   "metadata": {},
   "source": [
    "<h3> Freivalds' initial state </h3>\n",
    "\n",
    "Freivalds starts in state $ \\myvector{ 0.5 \\\\ 0 \\\\ 0.5 \\\\ 0 } $.\n",
    "\n",
    "Freivalds reads the strings composed by $ a $'s and $ b $'s symbol by symbol."
   ]
  },
  {
   "cell_type": "markdown",
   "metadata": {},
   "source": [
    "<h3> Freivalds reads symbol $ a $</h3>\n",
    "\n",
    "When in the state $ 00 $ and reading an $ a $, Freivalds switches to states $ 01 $ and $ 11 $ with probabilities $ 0.25 $ and stays in state $ 00 $ with probability $ 0.5 $. \n",
    "\n",
    "When in any other state and reading an $ a $, Freivalds stays in the same state with probability 1.\n",
    "\n",
    "Thus, we can define a probabilistic operator $ A $ for Freivalds when reading an $ a $."
   ]
  },
  {
   "cell_type": "markdown",
   "metadata": {},
   "source": [
    "<h3>Task 5 </h3>\n",
    "\n",
    "Is A the following matrix?\n",
    "\n",
    "$$\n",
    "    A = \\mymatrix{rccc}{ 0.5 & 0 & 0 & 0 \\\\ 0.25 & 1 & 0 & 0 \\\\ 0 & 0 & 1 & 0 \\\\ 0.25 & 0 & 0 & 1 }.\n",
    "$$\n",
    "\n",
    "<i> The columns and rows correspond to the states in order of $ 00 $, $ 01 $, $ 10 $, and $ 11 $.</i>"
   ]
  },
  {
   "cell_type": "markdown",
   "metadata": {},
   "source": [
    "<h3> Freivalds reads symbol $ b $</h3>\n",
    "\n",
    "When in the state $ 10 $ and reading a $ b $, Freivalds switches to states $ 01 $ and $ 11 $ with probabilities $ 0.25 $ and stays in state $ 10 $ with probability $ 0.5 $. \n",
    "\n",
    "When in any other state and reading a $ b $, Freivalds stays in the same state with probability 1.\n",
    "\n",
    "Thus, we can define a probabilistic operator $ B $ for Freivalds when reading a $ b $."
   ]
  },
  {
   "cell_type": "markdown",
   "metadata": {},
   "source": [
    "<h3>Task 6 </h3>\n",
    "\n",
    "Is B the following matrix?\n",
    "\n",
    "$$\n",
    "    B = \\mymatrix{rccc}{ 1 & 0 & 0 & 0 \\\\ 0 & 1 & 0.25 & 0 \\\\ 0 & 0 & 0.5 & 0 \\\\ 0 & 0 & 0.25 & 1 }.\n",
    "$$"
   ]
  },
  {
   "cell_type": "markdown",
   "metadata": {},
   "source": [
    "<h3> Task 7 </h3>\n",
    "\n",
    "A challenging task.\n",
    "\n",
    "Freivalds reads 50 random strings of length 40. \n",
    "\n",
    "Find the final probabilistic state for each string.\n",
    "\n",
    "Is there any relation between \n",
    "<ul>\n",
    "    <li>the numbers of $ a $'s and $ b $'s, say $ N_a $ and $ N_b $, and </li>\n",
    "    <li>the probabilities of the first bit being in zero and one, say $ p_0 $ and $ p_1 $?</li>\n",
    "</ul>\n",
    "More specifically:\n",
    "<ul>\n",
    "    <li> When $ N_a > N_b $, is $ p_0 < p_1 $ or $ p_0 > p_1 $? </li>\n",
    "    <li> When $ N_a < N_b $, is $ p_0 < p_1 $ or $ p_0 > p_1 $? </li>\n",
    "</ul>\n",
    "\n",
    "Or simply check the signs of $ (N_a - N_b) $ and $ (p_0-p_1) $ for each string.\n",
    "\n",
    "<i>Hint: The multiplication of two numbers with the same signs is a positive number, and the multiplication of two numbers with the opposite signs gives a negative number.</i>"
   ]
  },
  {
   "cell_type": "code",
   "execution_count": null,
   "metadata": {},
   "outputs": [],
   "source": [
    "# the initial state\n",
    "initial = [0.5, 0, 0.5, 0]\n",
    "\n",
    "# probabilistic operator for symbol a\n",
    "A = [\n",
    "    [0.5,  0, 0, 0],\n",
    "    [0.25, 1, 0, 0],\n",
    "    [0,    0, 1, 0],\n",
    "    [0.25, 0, 0, 1]\n",
    "]\n",
    "\n",
    "# probabilistic operator for symbol b\n",
    "B = [\n",
    "    [1, 0, 0,    0],\n",
    "    [0, 1, 0.25, 0],\n",
    "    [0, 0, 0.5,  0],\n",
    "    [0, 0, 0.25, 1]\n",
    "]\n",
    "\n",
    "#\n",
    "# your solution is here\n",
    "#"
   ]
  },
  {
   "cell_type": "markdown",
   "metadata": {},
   "source": [
    "<a href=\"B18_Correlation_Solutions.ipynb#task7\">click for our solution</a>"
   ]
  },
  {
   "cell_type": "code",
   "execution_count": null,
   "metadata": {},
   "outputs": [],
   "source": []
  }
 ],
 "metadata": {
  "kernelspec": {
   "display_name": "Python 3",
   "language": "python",
   "name": "python3"
  },
  "language_info": {
   "codemirror_mode": {
    "name": "ipython",
    "version": 3
   },
   "file_extension": ".py",
   "mimetype": "text/x-python",
   "name": "python",
   "nbconvert_exporter": "python",
   "pygments_lexer": "ipython3",
   "version": "3.7.1"
  }
 },
 "nbformat": 4,
 "nbformat_minor": 2
}
