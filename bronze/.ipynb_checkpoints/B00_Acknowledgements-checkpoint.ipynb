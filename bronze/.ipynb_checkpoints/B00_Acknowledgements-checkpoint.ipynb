{
 "cells": [
  {
   "cell_type": "markdown",
   "metadata": {},
   "source": [
    "<table> \n",
    "    <tr>\n",
    "        <td  style=\"background-color:#ffffff;\"><img src=\"..\\images\\qworld.jpg\" width=\"70%\" align=\"left\"></td>\n",
    "        <td style=\"background-color:#ffffff;\" width=\"*\"></td>\n",
    "        <td  style=\"background-color:#ffffff;vertical-align:text-top;\"><img src=\"..\\images\\logo.jpg\" width=\"25%\" align=\"right\"></td>        \n",
    "    </tr></table>"
   ]
  },
  {
   "cell_type": "markdown",
   "metadata": {},
   "source": [
    "<h2> Acknowledgements </h2>"
   ]
  },
  {
   "cell_type": "markdown",
   "metadata": {},
   "source": [
    "<font style=\"color: #cd7f32;\"><b><i>Bronze</i></b></font> was created by <a href=\"http://abu.lu.lv\" target=\"_blank\">Abu</a> (QLatvia) in October 2018, and the most part of it had been developed by him until July 2019.\n",
    "\n",
    "Starting from <b>July 7, 2019</b>, it has been on a public gitlab repository (https://gitlab.com/qkitchen/basics-of-quantum-computing) and it is expected to have contributions from public as well. \n",
    "\n",
    "Therefore, there will be no further acknowledgements as gitlab traces the contributions."
   ]
  },
  {
   "cell_type": "markdown",
   "metadata": {},
   "source": [
    "<h3>Bronze+ 2019</h3>\n",
    "\n",
    "We thank to <b><i>QDrive mentors and participants</i></b> for their very helpful corrections and suggestions.\n",
    "\n",
    "We thank to <b><i>Maksims Dimitrijevs</i></b> (QLatvia) for his careful reading and corrections on our notebooks, and his contribution on writing new materials.\n",
    "\n",
    "\n",
    "We thank <b><i>Adam Glos</i></b> for his comments on Bronze 2018."
   ]
  },
  {
   "cell_type": "markdown",
   "metadata": {},
   "source": [
    "<h3>Bronze 2018</h3>\n",
    "<hr>\n",
    "We thank to <b><i>Katrina Kizenbaha</i></b> from Riga TechGirls for her revisions on our notebooks on python.\n",
    "\n",
    "We thank to <b><i>Martins Kalis</i></b> (QLatvia) for his technical comments on python, qiskit, and our notebooks.\n",
    "\n",
    "We thank to <b><i>Maksims Dimitrijevs</i></b> (QLatvia) for his careful reading and corrections on our notebooks.\n",
    "\n",
    "We thank to QLatvia members <b><i>Martins Kalis</i></b>, <b><i>Maksims Dimitrijevs</i></b>, <b><i>Aleksejs Naumovs</i></b>, <b><i>Andis Draguns</i></b>, and <b><i>Matiss Apinis</i></b>  for their help and support.\n",
    "\n",
    "We thank to <b><i>the students (DF@LU) attending quantum programming's meetings</i></b> on each Friday (Fall 2018) for their comments while working with our notebooks.\n",
    "<hr>"
   ]
  }
 ],
 "metadata": {
  "kernelspec": {
   "display_name": "Python 3",
   "language": "python",
   "name": "python3"
  },
  "language_info": {
   "codemirror_mode": {
    "name": "ipython",
    "version": 3
   },
   "file_extension": ".py",
   "mimetype": "text/x-python",
   "name": "python",
   "nbconvert_exporter": "python",
   "pygments_lexer": "ipython3",
   "version": "3.7.1"
  }
 },
 "nbformat": 4,
 "nbformat_minor": 2
}
